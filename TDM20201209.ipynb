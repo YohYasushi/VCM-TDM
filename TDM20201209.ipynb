{
 "cells": [
  {
   "cell_type": "code",
   "execution_count": 3,
   "metadata": {
    "id": "qzjtKLe1C_7a"
   },
   "outputs": [
    {
     "name": "stdout",
     "output_type": "stream",
     "text": [
      "CCR 42.5\n"
     ]
    }
   ],
   "source": [
    "# 無駄話が多いようですが必要なことしか記載しておりません！\n",
    "import numpy as np\n",
    "import math\n",
    "import CCR\n",
    "import matplotlib.pyplot as plt\n",
    "\n",
    "# パラメータ直接入力\n",
    "GENDER = 'M'\n",
    "AGE = 38\n",
    "WEIGHT = 60\n",
    "SCR = 2.0\n",
    "\n",
    "\n",
    "# 投与量パターン・点滴時間　※多ければ多いほど処理に時間がかかります\n",
    "DOSETYPE = [0, 500,  1000, 1250, 1500, 2000]  # 1時間あたりの投与量のリスト\n",
    "TIMEINF = [1.0, 2.0]  # 点滴注射にかける時間のリスト\n",
    "\n",
    "# ピークの目標濃度入力\n",
    "Peak_max = 40\n",
    "Peak_min = 25\n",
    "\n",
    "# トラフの目標濃度入力\n",
    "Trough_max = 20\n",
    "Trough_min = 15\n",
    "\n",
    "#ここで腎機能計算－－－－－－－－－－CCRをImportした上で\n",
    "\n",
    "CCR= CCR.CCR(GENDER, AGE, SCR, WEIGHT)\n",
    "print('CCR', format(CCR))\n",
    "\n",
    "#ここで血中濃度計算－－－－－－－－－－\n",
    "\n",
    "# 血中濃度計算　パラーメーター各種\n",
    "k12 = 1.1199  # /hr\n",
    "k21 = 0.4801  # /hr\n",
    "V1 = 17.520 # L\n",
    "DrugCL = CCR * 0.797 * 60 / 1000 / WEIGHT # 0.797は薬CL=0.797*CCRの意味 さらにml/min/kg -> L/hr/kgへ単位変換のため\n",
    "VD = V1 / WEIGHT\n",
    "k10 = DrugCL / VD # keと同じこと 排泄クリアランスの定数？\n",
    "alpha = ((k12 + k21 + k10) + math.sqrt((k12 + k21 + k10) ** 2 - (4 * k21 * k10))) / 2\n",
    "beta =  ((k12 + k21 + k10) - math.sqrt((k12 + k21 + k10) ** 2 - (4 * k21 * k10))) / 2\n",
    "\n",
    "# 血中濃度Cp\n",
    "#便宜上、CpAとCpBに分けております。\n",
    "# k0 = 1時間あたりの投与量(mg/hour)　の意味です\n",
    "# T: (そのトラフの元となるピーク生成の)投与の最初からの経過時間\n",
    "\n",
    "def CpA(k0, T):\n",
    "    return (k0 * (k21 - alpha))/(V1 * alpha * (beta - alpha)) * (1 - math.exp(- alpha * T))\n",
    "def CpB(k0, T):\n",
    "    return (k0 * (k21 - beta))/(V1 * beta * (alpha - beta )) * (1 - math.exp(- beta * T))\n",
    "\n",
    "# これが肝心の血中濃度の関数\n",
    "def Cp(k0, T, Tinf):\n",
    "    if T <= Tinf: # ピークまでの数式 ピーク値の部分\n",
    "        return CpA(k0, T) + CpB(k0, T)\n",
    "    else: #ピーク以後の数式 トラフ値の部分\n",
    "        return CpA(k0, Tinf) * math.exp(-alpha * (T-Tinf)) + CpB(k0, Tinf) * math.exp(-beta * (T-Tinf))\n",
    "\n",
    "# これが肝心の血中濃度の関数の微分式\n",
    "def CpDrv(k0, T, Tinf):\n",
    "    if T <= Tinf: # ピークまでの数式 ピーク値の部分\n",
    "        return alpha * (k0 * (k21 - alpha))/(V1 * alpha * (beta - alpha)) * math.exp(- alpha * T) + \\\n",
    "    beta * (k0 * (k21 - beta))/(V1 * beta * (alpha - beta )) * math.exp(- beta * T)\n",
    "    \n",
    "    else: #ピーク以後の数式 トラフ値の部分\n",
    "        return (-alpha) * CpA(k0, Tinf) * math.exp(-alpha * (T-Tinf)) + (-beta) * CpB(k0, Tinf) * math.exp(-beta * (T-Tinf))\n",
    "\n",
    "#血中濃度式はここまで－－－－－－－－－－"
   ]
  },
  {
   "cell_type": "code",
   "execution_count": 4,
   "metadata": {},
   "outputs": [
    {
     "name": "stdout",
     "output_type": "stream",
     "text": [
      "[[0, 1.0], [0, 2.0], [500, 1.0], [500, 2.0], [1000, 1.0]]\n"
     ]
    }
   ],
   "source": [
    "# 初回投与でピークMAXを超えない1時間あたりの投与時間と投与量の組み合わせ候補の生成\n",
    "CANDPLAN = []\n",
    "i = 0\n",
    "for i in range(len(DOSETYPE)):\n",
    "    for j in range(len(TIMEINF)):\n",
    "        if Cp(DOSETYPE[i], TIMEINF[j], TIMEINF[j]) <= Peak_max: # 初回投与のピーク濃度がPeak_max以下ということ\n",
    "            CANDPLAN.append([DOSETYPE[i], TIMEINF[j]])\n",
    "    else:\n",
    "        pass\n",
    "print(CANDPLAN)"
   ]
  },
  {
   "cell_type": "code",
   "execution_count": 5,
   "metadata": {
    "id": "kBafmT4SWvNe",
    "scrolled": true
   },
   "outputs": [
    {
     "data": {
      "image/png": "[encoded data removed]",
      "text/plain": [
       "<Figure size 432x288 with 1 Axes>"
      ]
     },
     "metadata": {
      "needs_background": "light"
     },
     "output_type": "display_data"
    },
    {
     "name": "stdout",
     "output_type": "stream",
     "text": [
      "Cp [0.0, 35.343414371322346, 18.457690746346746, 14.932744980957336, 13.903266191104848, 13.349714805536237, 12.896397698587423, 12.47311499509613, 12.06644993334134, 11.673549995272259, 11.293537538142361, 10.92591322879727, 10.570258981379544, 10.226182397180525, 9.89330609507265, 9.571265395296878, 9.259707566430796, 8.958291373347855, 8.666686691270035, 8.384574141931456, 8.111644743359651, 7.847599571386724, 7.592149432239977, 7.345014545801621, 7.105924239180881, 6.874616650261182, 6.650838440897325, 6.434344519448517, 6.224897772343334, 6.022268804382606, 5.826235687495811, 5.636583717675781, 5.453105179825522, 5.275599120259602, 5.103871126610911, 4.93773311490178, 4.777003123546209, 4.62150511405762, 4.471068778243836, 4.3255293516781315, 4.18472743324206, 4.048508810542401, 3.9167242910110383, 3.7892295385027546, 3.6658849152120045, 3.5465553287355065, 3.4311100841131568, 3.319422740685223]\n",
      "Cp微分 [57.07762557077625, 22.69443495353777, -6.782985624285551, -1.6411586082182934, -0.6732483294704322, -0.48139138837520407, -0.43414070634975677, -0.41414009945286784, -0.39956866888784454, -0.3863594907727603, -0.3737452963634316, -0.3615723749537365, -0.34980139715494707, -0.3384146397742661, -0.3273987337620199, -0.31674144718189257, -0.3064310767058505, -0.2964563242056286, -0.2868062638272002, -0.2774703262051974, -0.26843828617716725, -0.2597002514526404, -0.2512466517541545, -0.2430682283309146, -0.23515602381736023, -0.2275013724225109, -0.22009589043878516, -0.2129314670597937, -0.20600025549702974, -0.19929466438572452, -0.19280734947045372, -0.1865312055613893, -0.180459358752386, -0.17458515889238005, -0.168902172301854, -0.16340417472639085, -0.15808514451959943, -0.15293925604794498, -0.1479608733102618, -0.14314454376495908, -0.13848499235816, -0.133977115746233, -0.12961597670638744, -0.1253967987292124, -0.12131496078723536, -0.11736599227377174, -0.11354556810652176, -0.10984950399055189]\n"
     ]
    }
   ],
   "source": [
    "# グラフ化のぱーと\n",
    "# 血中濃度リスト作成\n",
    "# CANDPLANごとに1時間毎の血中濃度をリストで作成\n",
    "k = 48 #　グラフに表示する時間の設定\n",
    "l = 4 # 表示するCANDPLANの種類\n",
    "CANDPLANConc = [None]* len(CANDPLAN) #Cp式の表示\n",
    "for i in range(len(CANDPLAN)):\n",
    "    c = []\n",
    "    for j in range(0, k, 1):\n",
    "        c.append(Cp(CANDPLAN[i][0], j, CANDPLAN[i][1]))\n",
    "    CANDPLANConc[i] = c\n",
    "    \n",
    "CANDPLANConcDrv = [None]* len(CANDPLAN) #CpDrv式の表示\n",
    "for i in range(len(CANDPLAN)):\n",
    "    c = []\n",
    "    for j in range(0, k, ):\n",
    "        c.append(CpDrv(CANDPLAN[i][0], j, CANDPLAN[i][1]))\n",
    "    CANDPLANConcDrv[i] = c\n",
    "\n",
    "#一応グラフ化\n",
    "x = np.arange(0, k)\n",
    "y1 = CANDPLANConc[l]\n",
    "y2 = CANDPLANConcDrv[l]\n",
    "plt.plot(x, y1, color='red') #Cp式は赤\n",
    "plt.plot(x, y2, color='blue') #CpDrv式は青\n",
    "plt.show()\n",
    "print('Cp', CANDPLANConc[l])\n",
    "print('Cp微分', CANDPLANConcDrv[l])\n"
   ]
  },
  {
   "cell_type": "code",
   "execution_count": 1,
   "metadata": {},
   "outputs": [],
   "source": [
    "# トラフ値の計算\n",
    "# BfrTrgh: 1つ前のトラフ値\n",
    "def Trough(BfrTrghA, BfrTrghB, k0, T, Tinf):\n",
    "    return (BfrTrghA + CpA(k0, Tinf)) * math.exp(- alpha * (T - Tinf)) + (BfrTrghB + CpB(k0, Tinf)) * math.exp(- beta * (T - Tinf))\n"
   ]
  }
 ],
 "metadata": {
  "accelerator": "TPU",
  "colab": {
   "collapsed_sections": [],
   "name": "TDM.ipynb",
   "provenance": []
  },
  "kernelspec": {
   "display_name": "Python 3",
   "language": "python",
   "name": "python3"
  },
  "language_info": {
   "codemirror_mode": {
    "name": "ipython",
    "version": 3
   },
   "file_extension": ".py",
   "mimetype": "text/x-python",
   "name": "python",
   "nbconvert_exporter": "python",
   "pygments_lexer": "ipython3",
   "version": "3.8.3"
  }
 },
 "nbformat": 4,
 "nbformat_minor": 1
}
